{
 "cells": [
  {
   "cell_type": "code",
   "execution_count": 2,
   "metadata": {},
   "outputs": [
    {
     "output_type": "execute_result",
     "data": {
      "text/plain": [
       "       dep  clage_vacsi        jour  n_dose1\n",
       "0       01           24  2021-01-15        1\n",
       "1       01           24  2021-01-16        3\n",
       "2       01           24  2021-01-20        3\n",
       "3       01           24  2021-01-21        1\n",
       "4       01           24  2021-01-22        3\n",
       "...    ...          ...         ...      ...\n",
       "20297  974            0  2021-01-27      248\n",
       "20298  976            0  2021-01-25       49\n",
       "20299  976            0  2021-01-26       34\n",
       "20300  976            0  2021-01-27       90\n",
       "20301  977            0  2021-01-18        1\n",
       "\n",
       "[20302 rows x 4 columns]"
      ],
      "text/html": "<div>\n<style scoped>\n    .dataframe tbody tr th:only-of-type {\n        vertical-align: middle;\n    }\n\n    .dataframe tbody tr th {\n        vertical-align: top;\n    }\n\n    .dataframe thead th {\n        text-align: right;\n    }\n</style>\n<table border=\"1\" class=\"dataframe\">\n  <thead>\n    <tr style=\"text-align: right;\">\n      <th></th>\n      <th>dep</th>\n      <th>clage_vacsi</th>\n      <th>jour</th>\n      <th>n_dose1</th>\n    </tr>\n  </thead>\n  <tbody>\n    <tr>\n      <th>0</th>\n      <td>01</td>\n      <td>24</td>\n      <td>2021-01-15</td>\n      <td>1</td>\n    </tr>\n    <tr>\n      <th>1</th>\n      <td>01</td>\n      <td>24</td>\n      <td>2021-01-16</td>\n      <td>3</td>\n    </tr>\n    <tr>\n      <th>2</th>\n      <td>01</td>\n      <td>24</td>\n      <td>2021-01-20</td>\n      <td>3</td>\n    </tr>\n    <tr>\n      <th>3</th>\n      <td>01</td>\n      <td>24</td>\n      <td>2021-01-21</td>\n      <td>1</td>\n    </tr>\n    <tr>\n      <th>4</th>\n      <td>01</td>\n      <td>24</td>\n      <td>2021-01-22</td>\n      <td>3</td>\n    </tr>\n    <tr>\n      <th>...</th>\n      <td>...</td>\n      <td>...</td>\n      <td>...</td>\n      <td>...</td>\n    </tr>\n    <tr>\n      <th>20297</th>\n      <td>974</td>\n      <td>0</td>\n      <td>2021-01-27</td>\n      <td>248</td>\n    </tr>\n    <tr>\n      <th>20298</th>\n      <td>976</td>\n      <td>0</td>\n      <td>2021-01-25</td>\n      <td>49</td>\n    </tr>\n    <tr>\n      <th>20299</th>\n      <td>976</td>\n      <td>0</td>\n      <td>2021-01-26</td>\n      <td>34</td>\n    </tr>\n    <tr>\n      <th>20300</th>\n      <td>976</td>\n      <td>0</td>\n      <td>2021-01-27</td>\n      <td>90</td>\n    </tr>\n    <tr>\n      <th>20301</th>\n      <td>977</td>\n      <td>0</td>\n      <td>2021-01-18</td>\n      <td>1</td>\n    </tr>\n  </tbody>\n</table>\n<p>20302 rows × 4 columns</p>\n</div>"
     },
     "metadata": {},
     "execution_count": 2
    }
   ],
   "source": [
    "import pandas as pd\n",
    "df = pd.read_csv('../data/input/vacsi-a-dep.csv', sep=';')\n",
    "df"
   ]
  },
  {
   "cell_type": "code",
   "execution_count": 3,
   "metadata": {},
   "outputs": [
    {
     "output_type": "execute_result",
     "data": {
      "text/plain": [
       "Empty DataFrame\n",
       "Columns: [dep, clage_vacsi, jour, n_dose1]\n",
       "Index: []"
      ],
      "text/html": "<div>\n<style scoped>\n    .dataframe tbody tr th:only-of-type {\n        vertical-align: middle;\n    }\n\n    .dataframe tbody tr th {\n        vertical-align: top;\n    }\n\n    .dataframe thead th {\n        text-align: right;\n    }\n</style>\n<table border=\"1\" class=\"dataframe\">\n  <thead>\n    <tr style=\"text-align: right;\">\n      <th></th>\n      <th>dep</th>\n      <th>clage_vacsi</th>\n      <th>jour</th>\n      <th>n_dose1</th>\n    </tr>\n  </thead>\n  <tbody>\n  </tbody>\n</table>\n</div>"
     },
     "metadata": {},
     "execution_count": 3
    }
   ],
   "source": [
    "df[(df.dep == \"01\") & (df.jour == \"2021-01-10\")].sort_values(by=\"jour\")"
   ]
  },
  {
   "cell_type": "code",
   "execution_count": 4,
   "metadata": {},
   "outputs": [
    {
     "output_type": "execute_result",
     "data": {
      "text/plain": [
       "       dep  clage_vacsi        jour  n_dose1\n",
       "0       01           24  2021-01-15        1\n",
       "1       01           24  2021-01-16        3\n",
       "2       01           24  2021-01-20        3\n",
       "3       01           24  2021-01-21        1\n",
       "4       01           24  2021-01-22        3\n",
       "...    ...          ...         ...      ...\n",
       "20297  974            0  2021-01-27      248\n",
       "20298  976            0  2021-01-25       49\n",
       "20299  976            0  2021-01-26       34\n",
       "20300  976            0  2021-01-27       90\n",
       "20301  977            0  2021-01-18        1\n",
       "\n",
       "[20302 rows x 4 columns]"
      ],
      "text/html": "<div>\n<style scoped>\n    .dataframe tbody tr th:only-of-type {\n        vertical-align: middle;\n    }\n\n    .dataframe tbody tr th {\n        vertical-align: top;\n    }\n\n    .dataframe thead th {\n        text-align: right;\n    }\n</style>\n<table border=\"1\" class=\"dataframe\">\n  <thead>\n    <tr style=\"text-align: right;\">\n      <th></th>\n      <th>dep</th>\n      <th>clage_vacsi</th>\n      <th>jour</th>\n      <th>n_dose1</th>\n    </tr>\n  </thead>\n  <tbody>\n    <tr>\n      <th>0</th>\n      <td>01</td>\n      <td>24</td>\n      <td>2021-01-15</td>\n      <td>1</td>\n    </tr>\n    <tr>\n      <th>1</th>\n      <td>01</td>\n      <td>24</td>\n      <td>2021-01-16</td>\n      <td>3</td>\n    </tr>\n    <tr>\n      <th>2</th>\n      <td>01</td>\n      <td>24</td>\n      <td>2021-01-20</td>\n      <td>3</td>\n    </tr>\n    <tr>\n      <th>3</th>\n      <td>01</td>\n      <td>24</td>\n      <td>2021-01-21</td>\n      <td>1</td>\n    </tr>\n    <tr>\n      <th>4</th>\n      <td>01</td>\n      <td>24</td>\n      <td>2021-01-22</td>\n      <td>3</td>\n    </tr>\n    <tr>\n      <th>...</th>\n      <td>...</td>\n      <td>...</td>\n      <td>...</td>\n      <td>...</td>\n    </tr>\n    <tr>\n      <th>20297</th>\n      <td>974</td>\n      <td>0</td>\n      <td>2021-01-27</td>\n      <td>248</td>\n    </tr>\n    <tr>\n      <th>20298</th>\n      <td>976</td>\n      <td>0</td>\n      <td>2021-01-25</td>\n      <td>49</td>\n    </tr>\n    <tr>\n      <th>20299</th>\n      <td>976</td>\n      <td>0</td>\n      <td>2021-01-26</td>\n      <td>34</td>\n    </tr>\n    <tr>\n      <th>20300</th>\n      <td>976</td>\n      <td>0</td>\n      <td>2021-01-27</td>\n      <td>90</td>\n    </tr>\n    <tr>\n      <th>20301</th>\n      <td>977</td>\n      <td>0</td>\n      <td>2021-01-18</td>\n      <td>1</td>\n    </tr>\n  </tbody>\n</table>\n<p>20302 rows × 4 columns</p>\n</div>"
     },
     "metadata": {},
     "execution_count": 4
    }
   ],
   "source": [
    "df"
   ]
  }
 ],
 "metadata": {
  "kernelspec": {
   "display_name": "Python 3",
   "language": "python",
   "name": "python3"
  },
  "language_info": {
   "codemirror_mode": {
    "name": "ipython",
    "version": 3
   },
   "file_extension": ".py",
   "mimetype": "text/x-python",
   "name": "python",
   "nbconvert_exporter": "python",
   "pygments_lexer": "ipython3",
   "version": "3.7.4-final"
  }
 },
 "nbformat": 4,
 "nbformat_minor": 2
}